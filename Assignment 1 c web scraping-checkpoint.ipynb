{
 "cells": [
  {
   "cell_type": "code",
   "execution_count": 8,
   "id": "1acf990d",
   "metadata": {},
   "outputs": [
    {
     "name": "stdout",
     "output_type": "stream",
     "text": [
      "['Fire-Boltt Ninja Call Pro Plus 1.83\" Smart Watch with Bluetooth Calling, AI Voice Assistance, 100', 'Amazon Customer', 'Nalini', 'Yasodha kumar', 'Karthika Gopinath', \"This smartwatch is an excellent addition to any tech-savvy individual's collection. Its sleek and modern design is sure to turn heads, while its advanced features make it an indispensable tool for staying connected on the go.  One of the standout features of this smartwatch is its ability to make and receive calls via Bluetooth. This means that you can leave your phone in your pocket or bag and still take calls with ease. The call quality is clear and crisp, so you won't miss a single word.\", \"This smartwatch is an excellent addition to any tech-savvy individual's collection. Its sleek and modern design is sure to turn heads, while its advanced features make it an indispensable tool for staying connected on the go.  One of the standout features of this smartwatch is its ability to make and receive calls via Bluetooth. This means that you can leave your phone in your pocket or bag and still take calls with ease. The call quality is clear and crisp, so you won't miss a single word.\", 'Kunal', 'Ramesh', 'Ramesh', 'Vikas Bhati', 'subhankar dutta']\n"
     ]
    }
   ],
   "source": [
    "# import module\n",
    "import requests\n",
    "from bs4 import BeautifulSoup\n",
    "\n",
    "HEADERS = ({'User-Agent':\n",
    "            'Mozilla/5.0 (Windows NT 10.0; Win64; x64) \\\n",
    "            AppleWebKit/537.36 (KHTML, like Gecko) \\\n",
    "            Chrome/90.0.4430.212 Safari/537.36',\n",
    "            'Accept-Language': 'en-US, en;q=0.5'})\n",
    "\n",
    "# user define function\n",
    "# Scrape the data\n",
    "def getdata(url):\n",
    "    r = requests.get(url, headers=HEADERS)\n",
    "    return r.text\n",
    "\n",
    "def html_code(url):\n",
    "\n",
    "    # pass the url\n",
    "    # into getdata function\n",
    "    htmldata = getdata(url)\n",
    "    soup = BeautifulSoup(htmldata, 'html.parser')\n",
    "\n",
    "    # display html code\n",
    "    return (soup)\n",
    "\n",
    "url = \"https://www.amazon.in/Fire-Boltt-Bluetooth-Calling-Assistance \\\n",
    "    -Resolution/dp/B0BF57RN3K/?_encoding=UTF8&pd_rd_w=0KGBs&content-id=amz \\\n",
    "    n1.sym.7096f7af-0391-4f75-bfd3-258f50e12d81&pf_rd_p=7096f7af-0391-4f75 \\\n",
    "    -bfd3-258f50e12d81&pf_rd_r=H1A8JQXNX1HGWQ8SM7MM&pd_rd_wg=AlCLo&pd_rd_r=e \\\n",
    "    1e13ef8-68a2-434e-8638-2c9ac63dbf9e&ref_=pd_gw_CEPC&th=1\"\n",
    "\n",
    "soup = html_code(url)\n",
    "def cus_data(soup):\n",
    "    # find the Html tag\n",
    "    # with find()\n",
    "    # and convert into string\n",
    "    data_str = \"\"\n",
    "    cus_list = []\n",
    "\n",
    "    for item in soup.find_all(\"span\", class_=\"a-profile-name\"):\n",
    "        data_str = data_str + item.get_text()\n",
    "        cus_list.append(data_str)\n",
    "        data_str = \"\"\n",
    "    return cus_list\n",
    "\n",
    "\n",
    "cus_res = cus_data(soup)\n",
    "print(cus_res)\n",
    "\n"
   ]
  },
  {
   "cell_type": "code",
   "execution_count": null,
   "id": "34e1a7ec",
   "metadata": {},
   "outputs": [],
   "source": []
  }
 ],
 "metadata": {
  "kernelspec": {
   "display_name": "Python 3 (ipykernel)",
   "language": "python",
   "name": "python3"
  },
  "language_info": {
   "codemirror_mode": {
    "name": "ipython",
    "version": 3
   },
   "file_extension": ".py",
   "mimetype": "text/x-python",
   "name": "python",
   "nbconvert_exporter": "python",
   "pygments_lexer": "ipython3",
   "version": "3.9.12"
  }
 },
 "nbformat": 4,
 "nbformat_minor": 5
}
